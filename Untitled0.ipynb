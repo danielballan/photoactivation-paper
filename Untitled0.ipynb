{
 "metadata": {
  "name": "",
  "signature": "sha256:100f37fcd12ec982e242aad9e849809fe2e4f483b7cb8d73ee564bb701098a4d"
 },
 "nbformat": 3,
 "nbformat_minor": 0,
 "worksheets": []
}